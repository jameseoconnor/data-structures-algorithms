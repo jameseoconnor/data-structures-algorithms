{
 "cells": [
  {
   "cell_type": "markdown",
   "id": "4662de15",
   "metadata": {},
   "source": [
    "# Python Dictionaries "
   ]
  },
  {
   "cell_type": "code",
   "execution_count": 24,
   "id": "5c3784e5",
   "metadata": {},
   "outputs": [],
   "source": [
    "new_dict = {\"eggs\": 4.99,\n",
    "\"banana\": 1.49,\n",
    "\"cheese\": 4.5,\n",
    "\"eggplant\": 2.5,\n",
    "\"bread\": 3.99\n",
    "}"
   ]
  },
  {
   "cell_type": "markdown",
   "id": "a75a118d",
   "metadata": {},
   "source": [
    "## 1. .get() - get a value from the dictionary\n",
    "- Big O - O(1)\n",
    "- Params - Key value you are searching for \n",
    "- Returns - The value, if the key exists, else nothing"
   ]
  },
  {
   "cell_type": "code",
   "execution_count": 27,
   "id": "c424aee1",
   "metadata": {},
   "outputs": [],
   "source": [
    "get_dict = new_dict.copy()"
   ]
  },
  {
   "cell_type": "code",
   "execution_count": 28,
   "id": "5aa341a7",
   "metadata": {},
   "outputs": [
    {
     "data": {
      "text/plain": [
       "4.99"
      ]
     },
     "execution_count": 28,
     "metadata": {},
     "output_type": "execute_result"
    }
   ],
   "source": [
    "get_dict.get(\"eggs\")"
   ]
  },
  {
   "cell_type": "code",
   "execution_count": 29,
   "id": "49315b66",
   "metadata": {},
   "outputs": [],
   "source": [
    "get_dict.get(\"milk\")"
   ]
  },
  {
   "cell_type": "markdown",
   "id": "032197a4",
   "metadata": {},
   "source": [
    "## 2. Set - set a value from the dictionary\n",
    "- Big O - O(1)\n",
    "- Params - Key and value\n",
    "- Returns - None"
   ]
  },
  {
   "cell_type": "code",
   "execution_count": 39,
   "id": "f6cbbbbe",
   "metadata": {},
   "outputs": [],
   "source": [
    "set_dict = new_dict.copy()"
   ]
  },
  {
   "cell_type": "code",
   "execution_count": 40,
   "id": "0ab33f83",
   "metadata": {},
   "outputs": [],
   "source": [
    "set_dict[\"milk\"] = 2.00"
   ]
  },
  {
   "cell_type": "code",
   "execution_count": 41,
   "id": "72e1105f",
   "metadata": {},
   "outputs": [
    {
     "data": {
      "text/plain": [
       "{'eggs': 4.99,\n",
       " 'banana': 1.49,\n",
       " 'cheese': 4.5,\n",
       " 'eggplant': 2.5,\n",
       " 'bread': 3.99,\n",
       " 'milk': 2.0}"
      ]
     },
     "execution_count": 41,
     "metadata": {},
     "output_type": "execute_result"
    }
   ],
   "source": [
    "set_dict"
   ]
  },
  {
   "cell_type": "markdown",
   "id": "6fab2a93",
   "metadata": {},
   "source": [
    "## 3. .copy() - copy the dictionary\n",
    "Big O - O(n)\n",
    "Params - None\n",
    "Returns - None"
   ]
  },
  {
   "cell_type": "code",
   "execution_count": 42,
   "id": "41976a9e",
   "metadata": {},
   "outputs": [],
   "source": [
    "copy_dict = new_dict.copy()"
   ]
  },
  {
   "cell_type": "code",
   "execution_count": 43,
   "id": "6e13c989",
   "metadata": {},
   "outputs": [
    {
     "data": {
      "text/plain": [
       "{'eggs': 4.99, 'banana': 1.49, 'cheese': 4.5, 'eggplant': 2.5, 'bread': 3.99}"
      ]
     },
     "execution_count": 43,
     "metadata": {},
     "output_type": "execute_result"
    }
   ],
   "source": [
    "copy_dict"
   ]
  },
  {
   "cell_type": "markdown",
   "id": "5f130ce6",
   "metadata": {},
   "source": [
    "## 4. .clear() -  empty the dictionary\n",
    "- Big O - O(1)\n",
    "- Params - None\n",
    "- Returns - None"
   ]
  },
  {
   "cell_type": "code",
   "execution_count": 51,
   "id": "ad90c123",
   "metadata": {},
   "outputs": [],
   "source": [
    "clear_dict = new_dict.copy()"
   ]
  },
  {
   "cell_type": "code",
   "execution_count": 52,
   "id": "a547cfc3",
   "metadata": {},
   "outputs": [],
   "source": [
    "clear_dict.clear()"
   ]
  },
  {
   "cell_type": "code",
   "execution_count": 53,
   "id": "046e0b24",
   "metadata": {},
   "outputs": [
    {
     "data": {
      "text/plain": [
       "{}"
      ]
     },
     "execution_count": 53,
     "metadata": {},
     "output_type": "execute_result"
    }
   ],
   "source": [
    "clear_dict"
   ]
  },
  {
   "cell_type": "code",
   "execution_count": 54,
   "id": "62b6c0d2",
   "metadata": {},
   "outputs": [],
   "source": [
    "# TO completely remove the entire dict from memory, we can use del \n",
    "del clear_dict"
   ]
  },
  {
   "cell_type": "code",
   "execution_count": 55,
   "id": "2d7e3c17",
   "metadata": {},
   "outputs": [
    {
     "ename": "NameError",
     "evalue": "name 'clear_dict' is not defined",
     "output_type": "error",
     "traceback": [
      "\u001b[0;31m---------------------------------------------------------------------------\u001b[0m",
      "\u001b[0;31mNameError\u001b[0m                                 Traceback (most recent call last)",
      "\u001b[0;32m/var/folders/86/d1pz7hms1rjf15kdvq3kf5km0000gn/T/ipykernel_89080/3789476853.py\u001b[0m in \u001b[0;36m<module>\u001b[0;34m\u001b[0m\n\u001b[0;32m----> 1\u001b[0;31m \u001b[0mclear_dict\u001b[0m\u001b[0;34m\u001b[0m\u001b[0;34m\u001b[0m\u001b[0m\n\u001b[0m",
      "\u001b[0;31mNameError\u001b[0m: name 'clear_dict' is not defined"
     ]
    }
   ],
   "source": [
    "clear_dict"
   ]
  },
  {
   "cell_type": "markdown",
   "id": "434c92c6",
   "metadata": {},
   "source": [
    "## 5. .keys() -  empty the dictionary\n",
    "- Big O - O(1)\n",
    "- Params - None\n",
    "- Returns - None"
   ]
  },
  {
   "cell_type": "code",
   "execution_count": 56,
   "id": "e79cf25a",
   "metadata": {},
   "outputs": [],
   "source": [
    "clear_dict = new_dict.copy()"
   ]
  },
  {
   "cell_type": "code",
   "execution_count": 58,
   "id": "00dc8e6e",
   "metadata": {},
   "outputs": [
    {
     "data": {
      "text/plain": [
       "dict_keys(['eggs', 'banana', 'cheese', 'eggplant', 'bread'])"
      ]
     },
     "execution_count": 58,
     "metadata": {},
     "output_type": "execute_result"
    }
   ],
   "source": [
    "clear_dict.keys()"
   ]
  },
  {
   "cell_type": "code",
   "execution_count": null,
   "id": "db837507",
   "metadata": {},
   "outputs": [],
   "source": []
  }
 ],
 "metadata": {
  "kernelspec": {
   "display_name": "interview-prep-env",
   "language": "python",
   "name": "interview-prep-env"
  },
  "language_info": {
   "codemirror_mode": {
    "name": "ipython",
    "version": 3
   },
   "file_extension": ".py",
   "mimetype": "text/x-python",
   "name": "python",
   "nbconvert_exporter": "python",
   "pygments_lexer": "ipython3",
   "version": "3.7.2"
  }
 },
 "nbformat": 4,
 "nbformat_minor": 5
}
