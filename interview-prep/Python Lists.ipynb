{
 "cells": [
  {
   "cell_type": "markdown",
   "id": "c9d1e669",
   "metadata": {},
   "source": [
    "# Python List Methods"
   ]
  },
  {
   "cell_type": "code",
   "execution_count": 41,
   "id": "a04de36d",
   "metadata": {},
   "outputs": [],
   "source": [
    "list1 = [10, 20, 30, 40, 50]"
   ]
  },
  {
   "cell_type": "markdown",
   "id": "7f0812f8",
   "metadata": {},
   "source": [
    "###  1. Copy() - Create a shallow copy of the list \n",
    "\n",
    "- Big O - O(n)\n",
    "- Params - None\n",
    "- Returns - A shallow copy of the list"
   ]
  },
  {
   "cell_type": "code",
   "execution_count": 42,
   "id": "58254918",
   "metadata": {},
   "outputs": [
    {
     "name": "stdout",
     "output_type": "stream",
     "text": [
      "[10, 20, 30, 40, 50]\n"
     ]
    }
   ],
   "source": [
    "copy_list = list1.copy()\n",
    "print(copy_list)"
   ]
  },
  {
   "cell_type": "markdown",
   "id": "ffc9e8d0",
   "metadata": {},
   "source": [
    "## 2. Append() - Add an element to the end of the list\n",
    "- Big O - O(1) \n",
    "\n",
    "- Params - The value you want to append\n",
    "- Returns - None\n",
    "\n",
    "Few things here - You can only append one thing at a time. You cant append a list because it will become nested."
   ]
  },
  {
   "cell_type": "code",
   "execution_count": 43,
   "id": "27be84d2",
   "metadata": {},
   "outputs": [
    {
     "name": "stdout",
     "output_type": "stream",
     "text": [
      "[10, 20, 30, 40, 50, 60]\n"
     ]
    }
   ],
   "source": [
    "append_list = list1.copy()\n",
    "append_list.append(60)\n",
    "print(append_list)"
   ]
  },
  {
   "cell_type": "code",
   "execution_count": 44,
   "id": "1e2bd488",
   "metadata": {},
   "outputs": [
    {
     "data": {
      "text/plain": [
       "[10, 20, 30, 40, 50]"
      ]
     },
     "execution_count": 44,
     "metadata": {},
     "output_type": "execute_result"
    }
   ],
   "source": [
    "list1"
   ]
  },
  {
   "cell_type": "markdown",
   "id": "1ef8a0cf",
   "metadata": {},
   "source": [
    "## 3. Pop() - Remove an element from the list (last or somewhere in between)\n",
    "\n",
    "- Big O (last) - O(1) \n",
    "- Big O (intermediate) - O(n)\n",
    "\n",
    "- Param - the index where you want to pop, leave blank if last \n",
    "- Returns - the last value from the List or the given index value"
   ]
  },
  {
   "cell_type": "code",
   "execution_count": 45,
   "id": "76f38043",
   "metadata": {},
   "outputs": [],
   "source": [
    "pop_list = list1.copy()"
   ]
  },
  {
   "cell_type": "code",
   "execution_count": 46,
   "id": "49915e3e",
   "metadata": {},
   "outputs": [
    {
     "name": "stdout",
     "output_type": "stream",
     "text": [
      "Popped value last is 50. Runtime O(1)\n",
      "Popped value inter is 30. Runtime O(n)\n"
     ]
    }
   ],
   "source": [
    "popped_value_last = pop_list.pop()\n",
    "print(f\"Popped value last is {popped_value_last}. Runtime O(1)\")\n",
    "\n",
    "popped_value_inter = pop_list.pop(2)\n",
    "print(f\"Popped value inter is {popped_value_inter}. Runtime O(n)\")\n"
   ]
  },
  {
   "cell_type": "markdown",
   "id": "064d5215",
   "metadata": {},
   "source": [
    "## 4. Insert() - Add an element into anwhere in a list\n",
    "- Big O - O(n)\n",
    "- Param1 - The index where you want to insert\n",
    "- Param2 - The value  you want to insert \n",
    "- Returns - None"
   ]
  },
  {
   "cell_type": "code",
   "execution_count": 48,
   "id": "1e81b417",
   "metadata": {},
   "outputs": [],
   "source": [
    "insert_list = list1.copy()"
   ]
  },
  {
   "cell_type": "code",
   "execution_count": 49,
   "id": "6dd17189",
   "metadata": {},
   "outputs": [
    {
     "name": "stdout",
     "output_type": "stream",
     "text": [
      "[10, 20, 30, 35, 40, 50]\n"
     ]
    }
   ],
   "source": [
    "insert_list.insert(3, 35)\n",
    "print(insert_list)"
   ]
  },
  {
   "cell_type": "markdown",
   "id": "a27cac29",
   "metadata": {},
   "source": [
    "## 5.  Get & Set Item - Get an Set item in a list\n",
    "- Big O - O(1)\n",
    "- Get Returns - The value at the index specified\n",
    "- Set Returns - Nothing"
   ]
  },
  {
   "cell_type": "code",
   "execution_count": 57,
   "id": "a978750d",
   "metadata": {},
   "outputs": [],
   "source": [
    "get_list = list1.copy()\n",
    "set_list = list1.copy()"
   ]
  },
  {
   "cell_type": "code",
   "execution_count": 58,
   "id": "6e2cc7f4",
   "metadata": {},
   "outputs": [
    {
     "name": "stdout",
     "output_type": "stream",
     "text": [
      "30\n",
      "[10, 20, 30, 40, 80]\n"
     ]
    }
   ],
   "source": [
    "# Getting\n",
    "item_to_get = get_list[2]\n",
    "print(item_to_get)\n",
    "\n",
    "# Setting \n",
    "item_to_set = 80\n",
    "set_list[4] = item_to_set\n",
    "print(set_list)"
   ]
  },
  {
   "cell_type": "markdown",
   "id": "b263b2de",
   "metadata": {},
   "source": [
    "## 6.  Clear() -  Removes all elements from a list\n",
    "- Big O - O(n)\n",
    "- Params - None\n",
    "- Returns - Empty list "
   ]
  },
  {
   "cell_type": "code",
   "execution_count": 64,
   "id": "c5d07541",
   "metadata": {},
   "outputs": [],
   "source": [
    "clear_list = list1.copy()"
   ]
  },
  {
   "cell_type": "code",
   "execution_count": 65,
   "id": "252783f4",
   "metadata": {},
   "outputs": [
    {
     "name": "stdout",
     "output_type": "stream",
     "text": [
      "[]\n"
     ]
    }
   ],
   "source": [
    "clear_list.clear()\n",
    "print(clear_list)"
   ]
  },
  {
   "cell_type": "markdown",
   "id": "0f0f04be",
   "metadata": {},
   "source": [
    "## 7. Count() - Counts occurances in a list\n",
    "- Big O - O(n)\n",
    "- Params - The value in the list you want to search for\n",
    "-Returns - Int of how many times it occurred "
   ]
  },
  {
   "cell_type": "code",
   "execution_count": 68,
   "id": "2c44669f",
   "metadata": {},
   "outputs": [],
   "source": [
    "count_list = list1.copy()"
   ]
  },
  {
   "cell_type": "code",
   "execution_count": 69,
   "id": "46a6e698",
   "metadata": {},
   "outputs": [
    {
     "data": {
      "text/plain": [
       "1"
      ]
     },
     "execution_count": 69,
     "metadata": {},
     "output_type": "execute_result"
    }
   ],
   "source": [
    "count_list.count(30)"
   ]
  },
  {
   "cell_type": "markdown",
   "id": "35fa8cdb",
   "metadata": {},
   "source": [
    "## 8. Extend() - adds all the elements of an iterable (list, tuple, string etc.) to the end of the list\n",
    "- Big O - O(k) - how many values you want to add \n",
    "- Params - The object you want to append to the end of the list\n",
    "- Returns - None\n",
    "\n",
    "\n",
    "Notes - Parameter has to be iterable. List, tupe, string, otherwise it throiws an error. "
   ]
  },
  {
   "cell_type": "code",
   "execution_count": 91,
   "id": "27ec52d6",
   "metadata": {},
   "outputs": [],
   "source": [
    "extend_list = list1.copy()"
   ]
  },
  {
   "cell_type": "code",
   "execution_count": 92,
   "id": "16c799c7",
   "metadata": {},
   "outputs": [
    {
     "name": "stdout",
     "output_type": "stream",
     "text": [
      "[10, 20, 30, 40, 50, 1, 2, 3, 4, 5, 1, 2, 3, 4, 5, '1', '2', '3', '4', '5']\n"
     ]
    }
   ],
   "source": [
    "extend_list2 = [1,2,3,4,5]\n",
    "extend_tup = (1,2,3,4,5)\n",
    "extend_str = \"12345\"\n",
    "\n",
    "extend_list.extend(extend_list2)\n",
    "extend_list.extend(extend_tup)\n",
    "extend_list.extend(extend_str)\n",
    "print(extend_list)"
   ]
  },
  {
   "cell_type": "markdown",
   "id": "81dc9658",
   "metadata": {},
   "source": [
    "## 9. Index() - returns the index of the specified element in the list.\n",
    "\n",
    "- Big O - O(n)\n",
    "- Param1 - The element you are looking for\n",
    "- Param2 - The starting point of the list\n",
    "- Param3 - The ending point (exclusive) of the list, so if looknig for something at index 1, you have to do 0,2 \n",
    "\n",
    "- Returns - Index if found, ValueError if not found"
   ]
  },
  {
   "cell_type": "code",
   "execution_count": 99,
   "id": "b14ca6d0",
   "metadata": {},
   "outputs": [],
   "source": [
    "index_list = list1.copy()"
   ]
  },
  {
   "cell_type": "code",
   "execution_count": 100,
   "id": "afa79cb0",
   "metadata": {},
   "outputs": [
    {
     "data": {
      "text/plain": [
       "0"
      ]
     },
     "execution_count": 100,
     "metadata": {},
     "output_type": "execute_result"
    }
   ],
   "source": [
    "index_list.index(10)"
   ]
  },
  {
   "cell_type": "code",
   "execution_count": 101,
   "id": "a9ba7cfd",
   "metadata": {},
   "outputs": [
    {
     "ename": "ValueError",
     "evalue": "60 is not in list",
     "output_type": "error",
     "traceback": [
      "\u001b[0;31m---------------------------------------------------------------------------\u001b[0m",
      "\u001b[0;31mValueError\u001b[0m                                Traceback (most recent call last)",
      "\u001b[0;32m/var/folders/86/d1pz7hms1rjf15kdvq3kf5km0000gn/T/ipykernel_39955/3308544939.py\u001b[0m in \u001b[0;36m<module>\u001b[0;34m\u001b[0m\n\u001b[0;32m----> 1\u001b[0;31m \u001b[0mindex_list\u001b[0m\u001b[0;34m.\u001b[0m\u001b[0mindex\u001b[0m\u001b[0;34m(\u001b[0m\u001b[0;36m60\u001b[0m\u001b[0;34m)\u001b[0m\u001b[0;34m\u001b[0m\u001b[0;34m\u001b[0m\u001b[0m\n\u001b[0m",
      "\u001b[0;31mValueError\u001b[0m: 60 is not in list"
     ]
    }
   ],
   "source": [
    "index_list.index(60)"
   ]
  },
  {
   "cell_type": "code",
   "execution_count": 102,
   "id": "9b1fd58a",
   "metadata": {},
   "outputs": [
    {
     "data": {
      "text/plain": [
       "1"
      ]
     },
     "execution_count": 102,
     "metadata": {},
     "output_type": "execute_result"
    }
   ],
   "source": [
    "index_list.index(20, 0, 2)"
   ]
  },
  {
   "cell_type": "markdown",
   "id": "90a1a8db",
   "metadata": {},
   "source": [
    "## 10. Remove() - removes the first matching element (which is passed as an argument) from the list.\n",
    "\n",
    "- Big O - O(n)\n",
    "- Param1 - The element you want to remove \n",
    "- Returns - None, or ValueError if item doesnt exist  "
   ]
  },
  {
   "cell_type": "code",
   "execution_count": 103,
   "id": "af412a35",
   "metadata": {},
   "outputs": [],
   "source": [
    "remove_list = list1.copy()"
   ]
  },
  {
   "cell_type": "code",
   "execution_count": 104,
   "id": "d5aba1c1",
   "metadata": {},
   "outputs": [
    {
     "name": "stdout",
     "output_type": "stream",
     "text": [
      "[20, 30, 40, 50, 10, 20, 30, 40]\n"
     ]
    }
   ],
   "source": [
    "remove_list.extend([10, 20, 30, 40])\n",
    "remove_list.remove(10)\n",
    "print(remove_list)"
   ]
  },
  {
   "cell_type": "code",
   "execution_count": 105,
   "id": "909ea44b",
   "metadata": {},
   "outputs": [
    {
     "ename": "ValueError",
     "evalue": "list.remove(x): x not in list",
     "output_type": "error",
     "traceback": [
      "\u001b[0;31m---------------------------------------------------------------------------\u001b[0m",
      "\u001b[0;31mValueError\u001b[0m                                Traceback (most recent call last)",
      "\u001b[0;32m/var/folders/86/d1pz7hms1rjf15kdvq3kf5km0000gn/T/ipykernel_39955/2072149281.py\u001b[0m in \u001b[0;36m<module>\u001b[0;34m\u001b[0m\n\u001b[1;32m      1\u001b[0m \u001b[0mremove_list\u001b[0m\u001b[0;34m.\u001b[0m\u001b[0mremove\u001b[0m\u001b[0;34m(\u001b[0m\u001b[0;36m10\u001b[0m\u001b[0;34m)\u001b[0m\u001b[0;34m\u001b[0m\u001b[0;34m\u001b[0m\u001b[0m\n\u001b[0;32m----> 2\u001b[0;31m \u001b[0mremove_list\u001b[0m\u001b[0;34m.\u001b[0m\u001b[0mremove\u001b[0m\u001b[0;34m(\u001b[0m\u001b[0;36m10\u001b[0m\u001b[0;34m)\u001b[0m\u001b[0;34m\u001b[0m\u001b[0;34m\u001b[0m\u001b[0m\n\u001b[0m",
      "\u001b[0;31mValueError\u001b[0m: list.remove(x): x not in list"
     ]
    }
   ],
   "source": [
    "remove_list.remove(10)\n",
    "remove_list.remove(10)"
   ]
  },
  {
   "cell_type": "markdown",
   "id": "842b6860",
   "metadata": {},
   "source": [
    "## 11. Reverse - reverses the elements of the list\n",
    "- Big O - O(n)\n",
    "- Param1 - None\n",
    "- Returns - None"
   ]
  },
  {
   "cell_type": "code",
   "execution_count": 111,
   "id": "d279b932",
   "metadata": {},
   "outputs": [],
   "source": [
    "reverse_list = list1.copy()"
   ]
  },
  {
   "cell_type": "code",
   "execution_count": 112,
   "id": "78bcf223",
   "metadata": {},
   "outputs": [
    {
     "name": "stdout",
     "output_type": "stream",
     "text": [
      "[50, 40, 30, 20, 10]\n"
     ]
    }
   ],
   "source": [
    "reverse_list.reverse()\n",
    "print(reverse_list)"
   ]
  },
  {
   "cell_type": "markdown",
   "id": "6916c699",
   "metadata": {},
   "source": [
    "## 12. Sort() -  sorts the elements of a given list in a specific ascending or descending order\n",
    "- Big O - O(nlogn) - uses timsort\n",
    "- Param1 - reverse (bool) in reversing order or not? \n",
    "- Param2 - keyval - a function to pass in to sort them according to function definition\n",
    "- Returns - Nothing of you use sort, this changes the original list. If you use sorted, then this will return a new sorted list"
   ]
  },
  {
   "cell_type": "code",
   "execution_count": 119,
   "id": "ccc17a61",
   "metadata": {},
   "outputs": [],
   "source": [
    "sort_list = list1.copy()"
   ]
  },
  {
   "cell_type": "code",
   "execution_count": 120,
   "id": "5c2e7e23",
   "metadata": {},
   "outputs": [
    {
     "name": "stdout",
     "output_type": "stream",
     "text": [
      "[50, 40, 30, 20, 10]\n"
     ]
    },
    {
     "data": {
      "text/plain": [
       "[10, 20, 30, 40, 50]"
      ]
     },
     "execution_count": 120,
     "metadata": {},
     "output_type": "execute_result"
    }
   ],
   "source": [
    "sort_list.sort(reverse=True)\n",
    "print(sort_list)\n",
    "\n",
    "sorted(sort_list)"
   ]
  },
  {
   "cell_type": "code",
   "execution_count": 128,
   "id": "df29a67d",
   "metadata": {},
   "outputs": [
    {
     "name": "stdout",
     "output_type": "stream",
     "text": [
      "['my', 'is', 'name', 'Hello', 'james']\n"
     ]
    }
   ],
   "source": [
    "# Sort by length of items, pass in builtin len function\n",
    "\n",
    "sort_list_str = [\"Hello\", \"my\", \"name\", \"is\", \"james\"]\n",
    "\n",
    "def length(i):\n",
    "    return len(i)\n",
    "\n",
    "sort_list_str.sort(reverse=False, key=length)\n",
    "print(sort_list_str)"
   ]
  },
  {
   "cell_type": "markdown",
   "id": "f6080d65",
   "metadata": {},
   "source": [
    "# Part 2 - Selecting/ Slicing\n",
    "\n",
    "Selecting subsets of the lists - fairly straight forward"
   ]
  },
  {
   "cell_type": "code",
   "execution_count": 129,
   "id": "ac6985c2",
   "metadata": {},
   "outputs": [],
   "source": [
    "list2 = [10, 20, 30, 40, 50, 60, 70, 80, 90, 100]"
   ]
  },
  {
   "cell_type": "code",
   "execution_count": 130,
   "id": "d20df0bb",
   "metadata": {},
   "outputs": [
    {
     "name": "stdout",
     "output_type": "stream",
     "text": [
      "[10, 20, 30, 40, 50, 60, 70, 80, 90, 100]\n"
     ]
    }
   ],
   "source": [
    "print(list2[::])"
   ]
  },
  {
   "cell_type": "code",
   "execution_count": 131,
   "id": "66af2a53",
   "metadata": {},
   "outputs": [
    {
     "name": "stdout",
     "output_type": "stream",
     "text": [
      "[100, 90, 80, 70, 60, 50, 40, 30, 20, 10]\n"
     ]
    }
   ],
   "source": [
    "print(list2[::-1])"
   ]
  },
  {
   "cell_type": "code",
   "execution_count": 132,
   "id": "0730665c",
   "metadata": {},
   "outputs": [
    {
     "name": "stdout",
     "output_type": "stream",
     "text": [
      "[100, 80, 60, 40, 20]\n"
     ]
    }
   ],
   "source": [
    "print(list2[::-2])"
   ]
  },
  {
   "cell_type": "code",
   "execution_count": 133,
   "id": "14016e85",
   "metadata": {},
   "outputs": [
    {
     "name": "stdout",
     "output_type": "stream",
     "text": [
      "[10, 20, 30, 40, 50, 60, 70, 80, 90, 100]\n"
     ]
    }
   ],
   "source": [
    "print(list2[:])"
   ]
  },
  {
   "cell_type": "code",
   "execution_count": 139,
   "id": "8bd88be2",
   "metadata": {},
   "outputs": [
    {
     "name": "stdout",
     "output_type": "stream",
     "text": [
      "[]\n"
     ]
    }
   ],
   "source": [
    "print(list2[1:-1:-1])"
   ]
  },
  {
   "cell_type": "code",
   "execution_count": 141,
   "id": "9ea26d59",
   "metadata": {},
   "outputs": [
    {
     "name": "stdout",
     "output_type": "stream",
     "text": [
      "[20, 30, 40, 50, 60, 70, 80, 90, 100]\n"
     ]
    }
   ],
   "source": [
    "print(list2[1:])"
   ]
  },
  {
   "cell_type": "code",
   "execution_count": 142,
   "id": "f79b68ea",
   "metadata": {},
   "outputs": [
    {
     "name": "stdout",
     "output_type": "stream",
     "text": [
      "[10]\n"
     ]
    }
   ],
   "source": [
    "print(list2[:1:])"
   ]
  },
  {
   "cell_type": "code",
   "execution_count": 143,
   "id": "ab809aa5",
   "metadata": {},
   "outputs": [
    {
     "name": "stdout",
     "output_type": "stream",
     "text": [
      "20\n"
     ]
    }
   ],
   "source": [
    "print(list2[1])"
   ]
  },
  {
   "cell_type": "code",
   "execution_count": null,
   "id": "5048b107",
   "metadata": {},
   "outputs": [],
   "source": []
  }
 ],
 "metadata": {
  "kernelspec": {
   "display_name": "interview-prep-env",
   "language": "python",
   "name": "interview-prep-env"
  },
  "language_info": {
   "codemirror_mode": {
    "name": "ipython",
    "version": 3
   },
   "file_extension": ".py",
   "mimetype": "text/x-python",
   "name": "python",
   "nbconvert_exporter": "python",
   "pygments_lexer": "ipython3",
   "version": "3.7.2"
  }
 },
 "nbformat": 4,
 "nbformat_minor": 5
}
